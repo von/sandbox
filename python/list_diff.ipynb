{
 "metadata": {
  "name": "list_diff"
 },
 "nbformat": 3,
 "nbformat_minor": 0,
 "worksheets": [
  {
   "cells": [
    {
     "cell_type": "markdown",
     "metadata": {},
     "source": [
      "Get differences between two lists (perserving order). [Kudos](http://stackoverflow.com/a/6489180/197789)."
     ]
    },
    {
     "cell_type": "code",
     "collapsed": false,
     "input": [
      "l1 = [ 1, 5, 6, 7, 9 ]\n",
      "l2 = [ 2, 3, 4, 5, 6, 8 ]\n",
      "l1_not_in_l2 = [ e for e in l1 if e not in l2 ]\n",
      "print l1_not_in_l2\n",
      "l2_not_in_l1 = [ e for e in l2 if e not in l1 ]\n",
      "print l2_not_in_l1\n"
     ],
     "language": "python",
     "metadata": {},
     "outputs": [
      {
       "output_type": "stream",
       "stream": "stdout",
       "text": [
        "[1, 7, 9]\n",
        "[2, 3, 4, 8]\n"
       ]
      }
     ],
     "prompt_number": 5
    },
    {
     "cell_type": "markdown",
     "metadata": {},
     "source": [
      "Order and duplicates are preserved."
     ]
    },
    {
     "cell_type": "code",
     "collapsed": false,
     "input": [
      "l1 = [ 1, 1, 5, 5, 6, 7, 9, 6, 1 ]\n",
      "l2 = [ 2, 3, 4, 5, 6, 8 ]\n",
      "l1_not_in_l2 = [ e for e in l1 if e not in l2 ]\n",
      "print l1_not_in_l2"
     ],
     "language": "python",
     "metadata": {},
     "outputs": [
      {
       "output_type": "stream",
       "stream": "stdout",
       "text": [
        "[1, 1, 7, 9, 1]\n"
       ]
      }
     ],
     "prompt_number": 6
    }
   ],
   "metadata": {}
  }
 ]
}