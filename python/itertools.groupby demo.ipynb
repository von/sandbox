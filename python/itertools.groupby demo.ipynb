{
 "metadata": {
  "name": "itertools.groupby demo"
 },
 "nbformat": 3,
 "nbformat_minor": 0,
 "worksheets": [
  {
   "cells": [
    {
     "cell_type": "raw",
     "metadata": {},
     "source": [
      "groupby() returns a iterable breaking up the given list into a sublists by key."
     ]
    },
    {
     "cell_type": "code",
     "collapsed": false,
     "input": [
      "from itertools import groupby\n",
      "l = [(1,6),(1,9),(1,10),(2,8),(2,1),(2,13),(5,19),(6,5),(6,8),(6,7)]\n",
      "for k,s in groupby(l, lambda e:e[0]):\n",
      "    print \"key: \" + str(k)\n",
      "    print \",\".join(str(i) for i in s)"
     ],
     "language": "python",
     "metadata": {},
     "outputs": [
      {
       "output_type": "stream",
       "stream": "stdout",
       "text": [
        "key: 1\n",
        "(1, 6),(1, 9),(1, 10)\n",
        "key: 2\n",
        "(2, 8),(2, 1),(2, 13)\n",
        "key: 5\n",
        "(5, 19)\n",
        "key: 6\n",
        "(6, 5),(6, 8),(6, 7)\n"
       ]
      }
     ],
     "prompt_number": 8
    },
    {
     "cell_type": "raw",
     "metadata": {},
     "source": [
      "Note that groupby() creates breaks when the key changes, so you probably want to sort the data."
     ]
    },
    {
     "cell_type": "code",
     "collapsed": false,
     "input": [
      "from itertools import groupby\n",
      "l = [(1,6),(1,9),(2,8),(1,10),(2,1),(2,13),(6,5),(6,8),(5,19),(6,7)]\n",
      "for k,s in groupby(l, lambda e:e[0]):\n",
      "    print \"key: \" + str(k)\n",
      "    print \",\".join(str(i) for i in s)"
     ],
     "language": "python",
     "metadata": {},
     "outputs": [
      {
       "output_type": "stream",
       "stream": "stdout",
       "text": [
        "key: 1\n",
        "(1, 6),(1, 9)\n",
        "key: 2\n",
        "(2, 8)\n",
        "key: 1\n",
        "(1, 10)\n",
        "key: 2\n",
        "(2, 1),(2, 13)\n",
        "key: 6\n",
        "(6, 5),(6, 8)\n",
        "key: 5\n",
        "(5, 19)\n",
        "key: 6\n",
        "(6, 7)\n"
       ]
      }
     ],
     "prompt_number": 9
    },
    {
     "cell_type": "code",
     "collapsed": false,
     "input": [
      "from itertools import groupby\n",
      "keyfunc = lambda e: e[0]\n",
      "l = [(1,6),(1,9),(2,8),(1,10),(2,1),(2,13),(6,5),(6,8),(5,19),(6,7)]\n",
      "ls = sorted(l, key=keyfunc)\n",
      "for k,s in groupby(ls, keyfunc):\n",
      "    print \"key: \" + str(k)\n",
      "    print \",\".join(str(i) for i in s)"
     ],
     "language": "python",
     "metadata": {},
     "outputs": [
      {
       "output_type": "stream",
       "stream": "stdout",
       "text": [
        "key: 1\n",
        "(1, 6),(1, 9),(1, 10)\n",
        "key: 2\n",
        "(2, 8),(2, 1),(2, 13)\n",
        "key: 5\n",
        "(5, 19)\n",
        "key: 6\n",
        "(6, 5),(6, 8),(6, 7)\n"
       ]
      }
     ],
     "prompt_number": 11
    },
    {
     "cell_type": "code",
     "collapsed": false,
     "input": [],
     "language": "python",
     "metadata": {},
     "outputs": []
    }
   ],
   "metadata": {}
  }
 ]
}